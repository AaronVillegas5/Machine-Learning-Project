Rename notebook to predict-breast-cancer.ipynb
